{
 "cells": [
  {
   "cell_type": "code",
   "execution_count": 160,
   "metadata": {},
   "outputs": [],
   "source": [
    "# Import Modules\n",
    "import os\n",
    "import csv\n",
    "import pathlib\n",
    "import pandas as pd\n",
    "import numpy as np\n",
    "from tabulate import tabulate\n",
    "\n",
    "#Set path for file and open the csv\n",
    "csvpath = os.path.join('..', 'Chicago_Energy_Benchmarking_20240408.csv')\n",
    "\n",
    "with open(csvpath) as csvfile:\n",
    "    buildingenergydata = pd.read_csv(csvfile)"
   ]
  },
  {
   "cell_type": "code",
   "execution_count": 161,
   "metadata": {},
   "outputs": [],
   "source": [
    "#Filter to just the Year, Property Name, and weather Normalized Source EUI and Total GHG Emissions columns\n",
    "\n",
    "filtered_bedata = buildingenergydata[['Data Year', 'Property Name', 'Weather Normalized Source EUI (kBtu/sq ft)', 'Total GHG Emissions (Metric Tons CO2e)']]\n",
    "\n",
    "#Rename columns\n",
    "new_names = {'Data Year': 'Year',\n",
    "             'Weather Normalized Source EUI (kBtu/sq ft)': 'Median Weather-Normalized Source Energy Use Intensity (kBTU/sq. ft.)',\n",
    "             'Total GHG Emissions (Metric Tons CO2e)': 'Total Greenhouse Gas Emissions (Metric Tons of Co2e)'}\n",
    "\n",
    "filtered_bedata = filtered_bedata.rename(columns=new_names)"
   ]
  },
  {
   "cell_type": "code",
   "execution_count": 162,
   "metadata": {},
   "outputs": [
    {
     "name": "stdout",
     "output_type": "stream",
     "text": [
      "+------+------+-----------------+----------------------------------------------------------------------+------------------------------------------------------+-----------------------------+------------------------------------+\n",
      "|      | Year |  Property Name  | Median Weather-Normalized Source Energy Use Intensity (kBTU/sq. ft.) | Total Greenhouse Gas Emissions (Metric Tons of Co2e) | Change in Source Energy Use | Change in Greenhouse Gas Emissions |\n",
      "+------+------+-----------------+----------------------------------------------------------------------+------------------------------------------------------+-----------------------------+------------------------------------+\n",
      "| 3395 | 2016 | South Shore-CPS |                                120.5                                 |                        1529.4                        |             nan             |                nan                 |\n",
      "| 7384 | 2018 | South Shore-CPS |                                 97.3                                 |                        1237.9                        |     -23.200000000000003     |               -291.5               |\n",
      "+------+------+-----------------+----------------------------------------------------------------------+------------------------------------------------------+-----------------------------+------------------------------------+\n",
      "\n",
      "\n",
      "+-------+------+-----------------------------------------+----------------------------------------------------------------------+------------------------------------------------------+-----------------------------+------------------------------------+\n",
      "|       | Year |              Property Name              | Median Weather-Normalized Source Energy Use Intensity (kBTU/sq. ft.) | Total Greenhouse Gas Emissions (Metric Tons of Co2e) | Change in Source Energy Use | Change in Greenhouse Gas Emissions |\n",
      "+-------+------+-----------------------------------------+----------------------------------------------------------------------+------------------------------------------------------+-----------------------------+------------------------------------+\n",
      "| 3692  | 2016 | Ray Meyer Fitness and Recreation Center |                                238.5                                 |                        1569.9                        |             nan             |                nan                 |\n",
      "| 9196  | 2018 | Ray Meyer Fitness and Recreation Center |                                210.6                                 |                        1410.7                        |     -27.900000000000006     |        -159.20000000000005         |\n",
      "| 17635 | 2020 | Ray Meyer Fitness and Recreation Center |                                139.4                                 |                        874.5                         |     -71.19999999999999      |               -536.2               |\n",
      "| 21752 | 2022 | Ray Meyer Fitness and Recreation Center |                                194.5                                 |                        1116.5                        |     55.099999999999994      |               242.0                |\n",
      "+-------+------+-----------------------------------------+----------------------------------------------------------------------+------------------------------------------------------+-----------------------------+------------------------------------+\n",
      "\n",
      "\n",
      "+------+---------------+----------------------------------------------------------------------+------------------------------------------------------+-----------------------------+------------------------------------+\n",
      "| Year | Property Name | Median Weather-Normalized Source Energy Use Intensity (kBTU/sq. ft.) | Total Greenhouse Gas Emissions (Metric Tons of Co2e) | Change in Source Energy Use | Change in Greenhouse Gas Emissions |\n",
      "+------+---------------+----------------------------------------------------------------------+------------------------------------------------------+-----------------------------+------------------------------------+\n",
      "+------+---------------+----------------------------------------------------------------------+------------------------------------------------------+-----------------------------+------------------------------------+\n",
      "\n",
      "\n",
      "+------+---------------+----------------------------------------------------------------------+------------------------------------------------------+-----------------------------+------------------------------------+\n",
      "| Year | Property Name | Median Weather-Normalized Source Energy Use Intensity (kBTU/sq. ft.) | Total Greenhouse Gas Emissions (Metric Tons of Co2e) | Change in Source Energy Use | Change in Greenhouse Gas Emissions |\n",
      "+------+---------------+----------------------------------------------------------------------+------------------------------------------------------+-----------------------------+------------------------------------+\n",
      "+------+---------------+----------------------------------------------------------------------+------------------------------------------------------+-----------------------------+------------------------------------+\n",
      "\n",
      "\n",
      "+------+------+-------------------------+----------------------------------------------------------------------+------------------------------------------------------+-----------------------------+------------------------------------+\n",
      "|      | Year |      Property Name      | Median Weather-Normalized Source Energy Use Intensity (kBTU/sq. ft.) | Total Greenhouse Gas Emissions (Metric Tons of Co2e) | Change in Source Energy Use | Change in Greenhouse Gas Emissions |\n",
      "+------+------+-------------------------+----------------------------------------------------------------------+------------------------------------------------------+-----------------------------+------------------------------------+\n",
      "| 2214 | 2016 | Residences at RiverBend |                                178.9                                 |                        4751.1                        |             nan             |                nan                 |\n",
      "| 8714 | 2018 | Residences at RiverBend |                                146.1                                 |                        4207.3                        |     -32.80000000000001      |         -543.8000000000002         |\n",
      "+------+------+-------------------------+----------------------------------------------------------------------+------------------------------------------------------+-----------------------------+------------------------------------+\n",
      "\n",
      "\n"
     ]
    }
   ],
   "source": [
    "for _ in range(5):\n",
    "    # Randomly select one property name\n",
    "    random_property = filtered_bedata['Property Name'].sample(n=1).iloc[0]\n",
    "\n",
    "    # Filter data for the randomly selected property name exclusively for years 2016, 2018, 2020, and 2022\n",
    "    random_property_data = filtered_bedata[filtered_bedata['Property Name'] == random_property]\n",
    "    random_property_data = random_property_data[random_property_data['Year'].isin([2016, 2018, 2020, 2022])]\n",
    "\n",
    "    # Find change in both quantities over time\n",
    "    diff1 = random_property_data['Median Weather-Normalized Source Energy Use Intensity (kBTU/sq. ft.)'].diff()\n",
    "    diff2 = random_property_data['Total Greenhouse Gas Emissions (Metric Tons of Co2e)'].diff()\n",
    "\n",
    "    # Add changes to the table\n",
    "    random_property_data['Change in Source Energy Use'] = diff1\n",
    "    random_property_data['Change in Greenhouse Gas Emissions'] = diff2\n",
    "\n",
    "    # Print the table\n",
    "    print(tabulate(random_property_data, headers='keys', tablefmt='pretty'))\n",
    "    print(\"\\n\")"
   ]
  }
 ],
 "metadata": {
  "kernelspec": {
   "display_name": "base",
   "language": "python",
   "name": "python3"
  },
  "language_info": {
   "codemirror_mode": {
    "name": "ipython",
    "version": 3
   },
   "file_extension": ".py",
   "mimetype": "text/x-python",
   "name": "python",
   "nbconvert_exporter": "python",
   "pygments_lexer": "ipython3",
   "version": "3.11.7"
  }
 },
 "nbformat": 4,
 "nbformat_minor": 2
}
